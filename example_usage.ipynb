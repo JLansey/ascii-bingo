{
 "cells": [
  {
   "cell_type": "code",
   "execution_count": 1,
   "metadata": {},
   "outputs": [],
   "source": [
    "from bingo import generate_one_bingo, print_bingo_sheets\n",
    "import boston"
   ]
  },
  {
   "cell_type": "code",
   "execution_count": 12,
   "metadata": {},
   "outputs": [],
   "source": [
    "%load_ext autoreload\n",
    "%autoreload 2"
   ]
  },
  {
   "cell_type": "code",
   "execution_count": 2,
   "metadata": {},
   "outputs": [
    {
     "name": "stdout",
     "output_type": "stream",
     "text": [
      "+-------------------------------------------------------------------------------+\n",
      "|           __          __          __         ____  _____   ____________       |\n",
      "|          / /_  ____  / /_  ______/ /___     / __ \\/  _/ | / / ____/ __ \\      |\n",
      "|         / __ \\/ __ \\/ / / / / __  / __ \\   / /_/ // //  |/ / / __/ / / /      |\n",
      "|        / /_/ / /_/ / / /_/ / /_/ / /_/ /  / /_/ // // /|  / /_/ / /_/ /       |\n",
      "|       /_.___/\\____/_/\\__,_/\\__,_/\\____/  /_____/___/_/ |_/\\____/\\____/ ®      |\n",
      "|                                                                               |\n",
      "+---------------+---------------+---------------+---------------+---------------+\n",
      "|    Guanaco    |    Guapetón   | Medialuna/s de|  Provincia de |     Claro     |\n",
      "|               |               |     grassa    |  Buenos Aires |               |\n",
      "|               |               |               |               |               |\n",
      "+---------------+---------------+---------------+---------------+---------------+\n",
      "|     Tango     |   Patagonia   |     Kiosco    |    Movistar   |    Chamuyx    |\n",
      "|               |               |               |               |               |\n",
      "|               |               |               |               |               |\n",
      "+---------------+---------------+---------------+---------------+---------------+\n",
      "|     Llama     |     Obvio     |    WOWISIMO   |    Empanada   |      Tini     |\n",
      "|               |               |               |               |               |\n",
      "|               |               |               |               |               |\n",
      "+---------------+---------------+---------------+---------------+---------------+\n",
      "|      Sos      |    La Plata   |    Frutilla   |     Boludo    |     Peron     |\n",
      "|               |               |               |               |               |\n",
      "|               |               |               |               |               |\n",
      "+---------------+---------------+---------------+---------------+---------------+\n",
      "|    Belgrano   |    Flashero   |    Milanesa   |     Chongx    |     Asado     |\n",
      "|               |               |               |               |               |\n",
      "|               |               |               |               |               |\n",
      "+---------------+---------------+---------------+---------------+---------------+\n",
      "\n"
     ]
    }
   ],
   "source": [
    "print(generate_one_bingo())"
   ]
  },
  {
   "cell_type": "code",
   "execution_count": 41,
   "metadata": {},
   "outputs": [],
   "source": [
    "print_bingo_sheets(50, \"example_bingo_sheets.txt\", theme=boston)"
   ]
  },
  {
   "cell_type": "code",
   "execution_count": null,
   "metadata": {},
   "outputs": [],
   "source": []
  }
 ],
 "metadata": {
  "kernelspec": {
   "display_name": "Python 3 (aide2)",
   "language": "python",
   "name": "aide2"
  },
  "language_info": {
   "codemirror_mode": {
    "name": "ipython",
    "version": 3
   },
   "file_extension": ".py",
   "mimetype": "text/x-python",
   "name": "python",
   "nbconvert_exporter": "python",
   "pygments_lexer": "ipython3",
   "version": "3.9.18"
  }
 },
 "nbformat": 4,
 "nbformat_minor": 4
}
