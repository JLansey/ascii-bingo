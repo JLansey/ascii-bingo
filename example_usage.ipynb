{
 "cells": [
  {
   "cell_type": "code",
   "execution_count": 1,
   "metadata": {},
   "outputs": [],
   "source": [
    "from bingo import generate_one_bingo, print_bingo_sheets"
   ]
  },
  {
   "cell_type": "code",
   "execution_count": 2,
   "metadata": {},
   "outputs": [
    {
     "name": "stdout",
     "output_type": "stream",
     "text": [
      "+-------------------------------------------------------------------------------+\n",
      "|           __          __          __         ____  _____   ____________       |\n",
      "|          / /_  ____  / /_  ______/ /___     / __ \\/  _/ | / / ____/ __ \\      |\n",
      "|         / __ \\/ __ \\/ / / / / __  / __ \\   / /_/ // //  |/ / / __/ / / /      |\n",
      "|        / /_/ / /_/ / / /_/ / /_/ / /_/ /  / /_/ // // /|  / /_/ / /_/ /       |\n",
      "|       /_.___/\\____/_/\\__,_/\\__,_/\\____/  /_____/___/_/ |_/\\____/\\____/ ®      |\n",
      "|                                                                               |\n",
      "+---------------+---------------+---------------+---------------+---------------+\n",
      "|    Movistar   |     Peron     |    Guapetón   |   Cachengue   |    La Plata   |\n",
      "|               |               |               |               |               |\n",
      "|               |               |               |               |               |\n",
      "+---------------+---------------+---------------+---------------+---------------+\n",
      "|     Iguazu    |     Chongx    |    Quilombo   |     Milei     |    Ecobici    |\n",
      "|               |               |               |               |               |\n",
      "|               |               |               |               |               |\n",
      "+---------------+---------------+---------------+---------------+---------------+\n",
      "|       Re      |  Nueva Shork  |    WOWISIMO   |    Frutilla   |   Buena onda  |\n",
      "|               |               |               |               |               |\n",
      "|               |               |               |               |               |\n",
      "+---------------+---------------+---------------+---------------+---------------+\n",
      "|      Che      |     Llama     |    Palermo    |     Claro     |    Milanesa   |\n",
      "|               |               |               |               |               |\n",
      "|               |               |               |               |               |\n",
      "+---------------+---------------+---------------+---------------+---------------+\n",
      "|     Vicuña    |    Empanada   | Medialuna/s de|    Flashero   |    Chamuyx    |\n",
      "|               |               |     grassa    |               |               |\n",
      "|               |               |               |               |               |\n",
      "+---------------+---------------+---------------+---------------+---------------+\n",
      "\n"
     ]
    }
   ],
   "source": [
    "print(generate_one_bingo())"
   ]
  },
  {
   "cell_type": "code",
   "execution_count": 3,
   "metadata": {},
   "outputs": [],
   "source": [
    "print_bingo_sheets(5, \"example_bingo_sheets.txt\")"
   ]
  },
  {
   "cell_type": "code",
   "execution_count": null,
   "metadata": {},
   "outputs": [],
   "source": []
  }
 ],
 "metadata": {
  "kernelspec": {
   "display_name": "aide2",
   "language": "python",
   "name": "python3"
  },
  "language_info": {
   "codemirror_mode": {
    "name": "ipython",
    "version": 3
   },
   "file_extension": ".py",
   "mimetype": "text/x-python",
   "name": "python",
   "nbconvert_exporter": "python",
   "pygments_lexer": "ipython3",
   "version": "3.8.3"
  }
 },
 "nbformat": 4,
 "nbformat_minor": 2
}
